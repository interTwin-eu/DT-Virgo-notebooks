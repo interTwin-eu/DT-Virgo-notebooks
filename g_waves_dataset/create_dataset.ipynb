{
 "cells": [
  {
   "cell_type": "code",
   "execution_count": 1,
   "id": "83b8ec8d-3dfb-4a57-b7bf-b7be52eb05a5",
   "metadata": {},
   "outputs": [],
   "source": [
    "import numpy as np\n",
    "import scipy.signal as sig\n",
    "import scipy.stats as stats\n",
    "import matplotlib.pyplot as plt\n",
    "\n",
    "import h5py as h5\n",
    "import os, sys, glob"
   ]
  },
  {
   "cell_type": "markdown",
   "id": "d876afe7-1ff0-4dec-aa25-672a06ac158a",
   "metadata": {},
   "source": [
    "# Basic data structure"
   ]
  },
  {
   "cell_type": "code",
   "execution_count": 2,
   "id": "b926051f-4420-44e1-81ff-1d7cd148e8db",
   "metadata": {},
   "outputs": [],
   "source": [
    "# where the data is located\n",
    "# Download from https://gw-openscience.org/auxiliary/GW170814/\n",
    "data_dir = '/data/datasets/gwosc' \n",
    "\n",
    "# name of a random file inside data_dir\n",
    "file_name = '/L1_vII/L-L1_AUXR-1186741824-64.h5' \n",
    "# here 1186738240 is the gps starting time of the data; it is always an integer multiple of 64\n",
    "# 64 is the duration in sec\n",
    "\n",
    "# read the data\n",
    "fid = h5.File(data_dir + file_name, 'r')"
   ]
  },
  {
   "cell_type": "code",
   "execution_count": 3,
   "id": "23659516-c25b-4dc5-a6a3-464a5fb880b1",
   "metadata": {},
   "outputs": [
    {
     "name": "stdout",
     "output_type": "stream",
     "text": [
      "Top level layers: (a sub system in LIGO)\n",
      "['ASC', 'HPI', 'IMC', 'ISI', 'LSC', 'OMC', 'PEM', 'PSL', 'SUS', 'TCS'] \n",
      "\n"
     ]
    }
   ],
   "source": [
    "# top layer\n",
    "print('Top level layers: (a sub system in LIGO)')\n",
    "print([key for key in fid.keys()], '\\n')"
   ]
  },
  {
   "cell_type": "code",
   "execution_count": 4,
   "id": "e14d1c66-8a3f-4001-8065-8676cbcb6fe7",
   "metadata": {},
   "outputs": [
    {
     "name": "stdout",
     "output_type": "stream",
     "text": [
      "Top level attributes: \n",
      "duration 64\n",
      "gps_start 1186741824\n",
      "ifo L1\n",
      "\n",
      "\n"
     ]
    }
   ],
   "source": [
    "# and top level attributes\n",
    "print('Top level attributes: ')\n",
    "for attrs in fid.attrs:\n",
    "    print(attrs, fid.attrs[attrs])\n",
    "print('\\n')"
   ]
  },
  {
   "cell_type": "code",
   "execution_count": 5,
   "id": "c76111d3-92d8-4b58-96d5-26829f186680",
   "metadata": {},
   "outputs": [
    {
     "name": "stdout",
     "output_type": "stream",
     "text": [
      "Secondary layers: (each corresponds to a LIGO channel)\n",
      "['ISI-BS_CAL_CART_RX_OUT_DQ', 'ISI-BS_CAL_CART_RY_OUT_DQ', 'ISI-BS_CAL_CART_RZ_OUT_DQ', 'ISI-BS_CAL_CART_X_OUT_DQ', 'ISI-BS_CAL_CART_Y_OUT_DQ'] \n",
      "\n",
      "\n"
     ]
    }
   ],
   "source": [
    "# secondary layer\n",
    "grp_top = fid['ISI'] # take ISI for example\n",
    "\n",
    "print('Secondary layers: (each corresponds to a LIGO channel)')\n",
    "print([key for (key, cnt) in zip(grp_top.keys(), np.arange(5))], '\\n\\n') "
   ]
  },
  {
   "cell_type": "code",
   "execution_count": 7,
   "id": "4531c5e0-c450-48f0-8782-5ef9c703fee1",
   "metadata": {},
   "outputs": [
    {
     "name": "stdout",
     "output_type": "stream",
     "text": [
      "Attributes inside a valid channel: \n",
      "alias_50 8.224547335549522e-05\n",
      "alias_90 0.00033516955282961907\n",
      "cal 1.0E+00\n",
      "duration 64\n",
      "fs 256\n",
      "fs0 1024.0\n",
      "gps_start 1186741824\n",
      "note vibration isolation table rotation (global IFO basis)\n",
      "resi_50 2.582282222475128e-05\n",
      "resi_90 7.098227591729522e-05\n",
      "unit nrad\n",
      "valid 1\n"
     ]
    }
   ],
   "source": [
    "# inside each channel\n",
    "# a valid channel\n",
    "chan_val = grp_top['ISI-BS_CAL_CART_RX_OUT_DQ']\n",
    "print('Attributes inside a valid channel: ')\n",
    "\n",
    "# gps_start: gps starting time in sec\n",
    "# duration: duration of data in sec\n",
    "# fs: sampling rate in Hz (the one used in the released h5 files)\n",
    "# fs0: original sampling rate in Hz (the one used in LIGO)\n",
    "# valid: if the data stream is valid (i.e., not identically zero)\n",
    "# note: description of the channel\n",
    "# unit: the output is proportional to this physical unit\n",
    "# cal: DC convertion factor from digital count to a physical unit (extra AC filters may be needed)\n",
    "for attrs in chan_val.attrs:\n",
    "    print(attrs, chan_val.attrs[attrs])"
   ]
  },
  {
   "cell_type": "code",
   "execution_count": 9,
   "id": "86704c57-b879-403e-8924-317de0e9e24e",
   "metadata": {},
   "outputs": [
    {
     "name": "stdout",
     "output_type": "stream",
     "text": [
      "Together it has a dataset: ['data'] \n",
      "[-5467.68175939 -5467.50112427 -5467.32085377 ...  -641.33464497\n",
      "  -641.52481094  -641.71455897]\n",
      "\n",
      "\n"
     ]
    }
   ],
   "source": [
    "print(\"Together it has a dataset: ['data'] \")\n",
    "print(chan_val['data'][()])\n",
    "print('\\n')"
   ]
  },
  {
   "cell_type": "code",
   "execution_count": 10,
   "id": "26438feb-1c0b-42cc-980e-27652cfd558c",
   "metadata": {},
   "outputs": [
    {
     "name": "stdout",
     "output_type": "stream",
     "text": [
      "Attributes inside an invalid channel: \n",
      "valid 0\n",
      "\n",
      "\n",
      "!!!\n",
      "To query data from a channel, please first check the valid flag!\n",
      "!!!\n"
     ]
    }
   ],
   "source": [
    "# an invalid channel\n",
    "chan_inval = grp_top['ISI-ETMX_SUSPOINT_TMSX_EUL_L_DQ']\n",
    "print('Attributes inside an invalid channel: ')\n",
    "for attrs in chan_inval.attrs:\n",
    "    print(attrs, chan_inval.attrs[attrs])\n",
    "# valid = 0 means that\n",
    "# the channel does not exist during the time released \n",
    "# or it is not in use and outputs identically zero\n",
    "\n",
    "print('\\n')\n",
    "print('!!!')\n",
    "print('To query data from a channel, please first check the valid flag!')\n",
    "print('!!!')"
   ]
  },
  {
   "cell_type": "markdown",
   "id": "c0de5822-7eb3-4072-b066-2c9ded7711f3",
   "metadata": {},
   "source": [
    "## Try plotting data from a single channel"
   ]
  },
  {
   "cell_type": "code",
   "execution_count": 11,
   "id": "aaf2047e-771a-4287-b04d-53cc07f26456",
   "metadata": {},
   "outputs": [
    {
     "data": {
      "text/plain": [
       "Text(0.5, 1.0, 'ISI-BS_CAL_CART_RX_OUT_DQ')"
      ]
     },
     "execution_count": 11,
     "metadata": {},
     "output_type": "execute_result"
    },
    {
     "data": {
      "image/png": "[encoded data removed]",
      "text/plain": [
       "<Figure size 432x288 with 1 Axes>"
      ]
     },
     "metadata": {
      "needs_background": "light"
     },
     "output_type": "display_data"
    }
   ],
   "source": [
    "# -- Make a time vector\n",
    "t0 = chan_val.attrs['gps_start']\n",
    "dt = 1.0 / chan_val.attrs['fs']\n",
    "dur = chan_val.attrs['duration']\n",
    "time = np.arange(t0, t0+dur, dt)\n",
    "\n",
    "# -- Plot the data\n",
    "plt.plot(time, chan_val['data'][()])\n",
    "plt.title('ISI-BS_CAL_CART_RX_OUT_DQ')"
   ]
  },
  {
   "cell_type": "markdown",
   "id": "7ee4587f-04c4-4c87-b178-302423669e97",
   "metadata": {},
   "source": [
    "## Loop through all channels to check which are valid"
   ]
  },
  {
   "cell_type": "code",
   "execution_count": 13,
   "id": "3a0d9dda-85d2-4fe1-bc94-23dacb6bda77",
   "metadata": {},
   "outputs": [
    {
     "name": "stdout",
     "output_type": "stream",
     "text": [
      "Checked file: /L1_vII/L-L1_AUXR-1186738240-64.h5\n",
      "Found 565 valid channels, 62 invalid channels \n",
      "\n",
      "Checked file: /H1_vII/H-H1_AUXR-1186738240-64.h5\n",
      "Found 552 valid channels, 75 invalid channels \n",
      "\n",
      "Found a total of 1117 valid channels\n"
     ]
    }
   ],
   "source": [
    "# -- Count valid and invalid channels\n",
    "\n",
    "filenamelist = ['/L1_vII/L-L1_AUXR-1186738240-64.h5', '/H1_vII/H-H1_AUXR-1186738240-64.h5']\n",
    "\n",
    "totalvalid = 0\n",
    "for fn in filenamelist:\n",
    "    valid = 0\n",
    "    invalid = 0\n",
    "    fid = h5.File(data_dir + fn, 'r')\n",
    "    \n",
    "    # loop over groups of channels\n",
    "    for k1 in fid.keys():\n",
    "        grp = fid[k1]\n",
    "        # loop over channels in the group\n",
    "        for k2 in grp.keys():\n",
    "            # if the channel is valid, get the data and print its properties\n",
    "            if (grp[k2].attrs['valid']):\n",
    "                valid += 1\n",
    "            else:\n",
    "                invalid += 1\n",
    "                \n",
    "    print(\"Checked file:\", fn)\n",
    "    print(\"Found {0} valid channels, {1} invalid channels \\n\".format(valid, invalid))\n",
    "    totalvalid += valid\n",
    "    \n",
    "print(\"Found a total of {} valid channels\".format(totalvalid))"
   ]
  },
  {
   "cell_type": "markdown",
   "id": "526d6bb1-1a1f-48ab-b7c6-d661f1b67b63",
   "metadata": {},
   "source": [
    "## Plotting the Q transform of aux channels"
   ]
  },
  {
   "cell_type": "code",
   "execution_count": 39,
   "id": "05a76fe5-7204-4818-a1b2-df0559c85935",
   "metadata": {},
   "outputs": [],
   "source": [
    "from gwpy.timeseries import TimeSeries\n",
    "from gwpy.time import from_gps\n",
    "from gwpy.frequencyseries import FrequencySeries\n",
    "from gwpy.detector import Channel"
   ]
  },
  {
   "cell_type": "code",
   "execution_count": 15,
   "id": "814e89be-4630-45d7-b19f-b811a156fa9c",
   "metadata": {},
   "outputs": [],
   "source": [
    "# Create the TimeSeries with data in auxiliary channel\n",
    "t = TimeSeries(chan_val['data'])\n",
    "# Properly setting the time attribute of the TimeSeries object\n",
    "t.dt = 1.0 / (chan_val.attrs['fs'])\n",
    "t.t0 = chan_val.attrs['gps_start']"
   ]
  },
  {
   "cell_type": "code",
   "execution_count": 16,
   "id": "91270ceb-74d9-4633-8c87-cbce6633f527",
   "metadata": {},
   "outputs": [
    {
     "data": {
      "image/png": "[encoded data removed]",
      "text/plain": [
       "<Plot size 864x432 with 2 Axes>"
      ]
     },
     "metadata": {
      "needs_background": "light"
     },
     "output_type": "display_data"
    }
   ],
   "source": [
    "t0 = 1186741861.5  # GPS time of astrophisical event\n",
    "dt = 0.3  # Desired width of q-transform plot, in seconds\n",
    "hq = t.q_transform(outseg=(t0-dt, t0+dt))\n",
    "fig = hq.plot()\n",
    "ax = fig.gca()\n",
    "mesh = ax.pcolormesh(hq)\n",
    "mesh.set_clim(0, 50)\n",
    "fig.colorbar(mesh, label=\"Normalised energy\")\n",
    "ax.grid(False)\n",
    "ax.set_yscale('log')"
   ]
  },
  {
   "cell_type": "markdown",
   "id": "2d6a0cb1-de3e-4b7d-a847-7f1e614bcccf",
   "metadata": {},
   "source": [
    "## Saving multiple Q transforms"
   ]
  },
  {
   "cell_type": "code",
   "execution_count": null,
   "id": "fafbbbdb-3058-4ca5-a290-b11580d3cc8b",
   "metadata": {},
   "outputs": [],
   "source": [
    "EVENT_TIME = 1186741861.5\n",
    "START_TIME_EVENT = 1186741824  # Time to select to have the event within the file"
   ]
  },
  {
   "cell_type": "code",
   "execution_count": null,
   "id": "8e06df70-5352-4a9e-b866-50695a79d126",
   "metadata": {},
   "outputs": [],
   "source": [
    "from torchvision import transforms\n",
    "from PIL import Image\n",
    "import os"
   ]
  },
  {
   "cell_type": "code",
   "execution_count": null,
   "id": "166f1859-377e-44ae-93fb-5d09c88769a7",
   "metadata": {},
   "outputs": [],
   "source": [
    "def q_trans_aux(gps_time=START_TIME_EVENT, H=False, subsystem='LSC', channel='LSC-DARM_OUT_DQ', time=EVENT_TIME, save_name='out1', save_dir='./non_strain_pictures/', save=True):\n",
    "    \n",
    "    ### Select the file\n",
    "    file_dir = '/data/datasets/gwosc'\n",
    "    file_name = '/L1_vII/L-L1_AUXR-' + str(gps_time) + '-64.h5'\n",
    "    if H:\n",
    "        file_name = '/H1_vII/H-H1_AUXR-' + str(gps_time) + '-64.h5'\n",
    "    file_path = file_dir+file_name\n",
    "    \n",
    "    ### Open it with the h5 library, select subsystem and channel\n",
    "    h5_file = h5.File(data_dir + file_name, 'r')\n",
    "    subsys_data = h5_file[subsystem]\n",
    "    chan_data = subsys_data[channel]\n",
    "    \n",
    "    # if the selected channel is not valid, exit the function\n",
    "    if not chan_data.attrs['valid']:\n",
    "        return\n",
    "    \n",
    "    ### Create the TimeSeries object\n",
    "    t = TimeSeries(chan_data['data'])\n",
    "    t.dt = 1.0 / (chan_data.attrs['fs'])  # the time step is assumed to be the inverse of the sampling frequency\n",
    "    t.t0 = chan_data.attrs['gps_start']\n",
    "    \n",
    "    # Select the interval to consider for the Q transform, around the EVENT_TIME\n",
    "    dt = 0.3\n",
    "    hq = t.q_transform(outseg=(time-dt, time+dt))\n",
    "    \n",
    "    ### Create the figure, remove the frame, remove the axis, add the mesh that will represent the power values\n",
    "    fig = plt.figure(frameon=False)\n",
    "    ax = fig.add_axes([0, 0, 1, 1])\n",
    "    mesh = ax.pcolormesh(hq)\n",
    "    mesh.set_clim(0, 10)\n",
    "    ax.grid(False)\n",
    "    ax.set_yscale('log')\n",
    "    ax.axis('off')\n",
    "    # Close the figure so they don't get showed in the notebook\n",
    "    plt.close(fig)\n",
    "    \n",
    "    # Define transforms: center crop the image then resize it to 256x256 pixel   \n",
    "    y_size = fig.get_size_inches()[1]*fig.dpi\n",
    "    crop = transforms.CenterCrop((y_size, y_size))\n",
    "    resize = transforms.Resize((256, 256))\n",
    "    transform = transforms.Compose([crop, resize])\n",
    "    \n",
    "    ### Save figure than apply transforms to the saved figure\n",
    "    path = save_dir + str(time) + '-' + save_name + '.jpg'\n",
    "    fig.savefig(path, bbox_inches='tight', pad_inches=0)\n",
    "        \n",
    "    image_file = Image.open(path)\n",
    "    cropped_file = transform(image_file)\n",
    "    cropped_file.save(path)\n",
    "    \n",
    "    if not save:\n",
    "        to_tensor = transforms.ToTensor()\n",
    "        tensor_img = to_tensor(cropped_file)\n",
    "        os.remove(path)\n",
    "        return tensor_img\n",
    "    return None"
   ]
  },
  {
   "cell_type": "code",
   "execution_count": null,
   "id": "200e5c1f-0448-4d9d-b977-a40849aeac2c",
   "metadata": {},
   "outputs": [],
   "source": [
    "def q_trans_file(gps_time=START_TIME_EVENT, max_plots=0, H=False, subsystem='LSC', time=EVENT_TIME, save=True):\n",
    "    \n",
    "    ### Select the file\n",
    "    file_dir = '/data/datasets/gwosc'\n",
    "    file_name = '/L1_vII/L-L1_AUXR-' + str(gps_time) + '-64.h5'\n",
    "    if H:\n",
    "        file_name = '/H1_vII/H-H1_AUXR-' + str(gps_time) + '-64.h5'\n",
    "    file_path = file_dir+file_name\n",
    "    \n",
    "    ### Open it with the h5 library, select the subsystem\n",
    "    h5_file = h5.File(data_dir + file_name, 'r')\n",
    "    subsys_data = h5_file[subsystem]\n",
    "    \n",
    "    ### Add every valid channel to the list\n",
    "    channels = []\n",
    "    for key in subsys_data.keys():\n",
    "        # Most channels in this file seems to have a IN1 and a OUT version. I arbitrarily decided to keep only the OUT version\n",
    "        if '_IN1_' in key:\n",
    "            continue\n",
    "        # Don't keep invalid channels\n",
    "        if not subsys_data[key].attrs['valid']:\n",
    "            continue\n",
    "        # Some channels have just the same value at each time step, we let go of these for we can't perform a q-transform on them\n",
    "        if subsys_data[key]['data'][()].min() == subsys_data[key]['data'][()].max():\n",
    "            continue\n",
    "        channels.append(key)\n",
    "        # If max_plots is 0 we keep every good channel we find\n",
    "        if len(channels) == max_plots:\n",
    "            break\n",
    "    \n",
    "    i = 1\n",
    "    j = 1\n",
    "    strain_image = None\n",
    "    aux_images = []\n",
    "    ### We save the image for the strain channel (that contains DARM in the name) on the strain_image variable\n",
    "    for channel in channels:\n",
    "        if 'DARM' in channel:\n",
    "            img = q_trans_aux(gps_time=gps_time, H=False, subsystem='LSC', channel=channel, time=time, save_name='strain'+str(i), \n",
    "                       save_dir='./non_strain_pictures/' if (not 'DARM' in channel) else './strain_pictures/', save=save)\n",
    "            i += 1\n",
    "            strain_image = img[0:3]\n",
    "        else:\n",
    "            img = q_trans_aux(gps_time=gps_time, H=False, subsystem='LSC', channel=channel, time=time, save_name='aux'+str(j), \n",
    "                       save_dir='./non_strain_pictures/' if (not 'DARM' in channel) else './strain_pictures/', save=save)\n",
    "            j += 1\n",
    "            # these have 4 channels, the fourth is just filled with 1., will be treated as transparency (alpha) if not removed\n",
    "            aux_images.append(img[0:3])\n",
    "    \n",
    "    return strain_image, aux_images"
   ]
  },
  {
   "cell_type": "markdown",
   "id": "f31f76b2-c440-41c5-b092-b9d378e26d15",
   "metadata": {},
   "source": [
    "## Create the dataset from the LSC subsystem"
   ]
  },
  {
   "cell_type": "code",
   "execution_count": null,
   "id": "86f15591-d436-4c5d-b284-dd931b3b9c02",
   "metadata": {},
   "outputs": [],
   "source": [
    "import torch\n",
    "data_directory = './dataset/'\n",
    "data_directory_test = './test_dataset/'\n",
    "\n",
    "### Function to save images in the concatenated format\n",
    "\n",
    "def create_data(strain_image, aux_images, time, test=False):\n",
    "    i = 1\n",
    "    to_PIL = transforms.ToPILImage()\n",
    "    for img in aux_images:\n",
    "        data = torch.cat([strain_image, img], dim=2)\n",
    "        final_image = to_PIL(data)\n",
    "        if test:\n",
    "            final_image.save(data_directory_test + str(time) + '_' + str(i) + '.jpg')\n",
    "        else:\n",
    "            final_image.save(data_directory + str(time) + '_' + str(i) + '.jpg')\n",
    "        i += 1"
   ]
  },
  {
   "cell_type": "code",
   "execution_count": null,
   "id": "091de97b-78fb-4d15-9f1f-e90adfd89de8",
   "metadata": {},
   "outputs": [],
   "source": [
    "all_times = np.sort(np.array([int(i[10:20]) for i in os.listdir('/data/datasets/gwosc/L1_vII')]))\n",
    "\n",
    "def q_trans_time(start_time):\n",
    "    time_search = np.sort(np.array([i for i in all_times - start_time if i < 0]))\n",
    "    file_time = all_times[len(time_search)-1]\n",
    "    L_files = q_trans_file(gps_time=file_time, max_plots=0, H=False, subsystem='LSC', time=start_time, save=False)\n",
    "    \n",
    "    return L_files"
   ]
  },
  {
   "cell_type": "code",
   "execution_count": null,
   "id": "14b51128-8839-49da-9f4c-374e9f63b1f0",
   "metadata": {},
   "outputs": [],
   "source": [
    "# Since there are 10 aux channels in the same file where there is the strain signal, by inserting 50 time values to process,\n",
    "# we will create 500 images, the time steps will be consecutive\n",
    "\n",
    "time_values = []\n",
    "\n",
    "for i in range(50):\n",
    "    time_values.append(1186741861.5 - 0.3 * 25 + 0.3 * i)"
   ]
  },
  {
   "cell_type": "code",
   "execution_count": null,
   "id": "6849f8a8-daff-4850-9edd-69b131e21569",
   "metadata": {},
   "outputs": [],
   "source": [
    "import time\n",
    "\n",
    "start_time = time.time()\n",
    "\n",
    "for a_time in time_values:\n",
    "    Ls = q_trans_time(a_time)\n",
    "    if not (Ls[0] is None):\n",
    "        create_data(Ls[0], Ls[1], a_time)\n",
    "        \n",
    "elapsed_time = time.time() - start_time\n",
    "print('The process took ' + str(elapsed_time) + ' seconds')"
   ]
  },
  {
   "cell_type": "code",
   "execution_count": null,
   "id": "c7130335-00e2-45e1-a950-e584b75ce581",
   "metadata": {},
   "outputs": [],
   "source": [
    "time_values_test = []\n",
    "\n",
    "for i in range(25):\n",
    "    time_values_test.append(1186741861.5 - 0.3 * 50 + 0.3 * i)"
   ]
  },
  {
   "cell_type": "code",
   "execution_count": null,
   "id": "2f7aadea-8b64-4434-97dd-ecdbf9b7e994",
   "metadata": {},
   "outputs": [],
   "source": [
    "for a_time in time_values_test:\n",
    "    Ls = q_trans_time(a_time)\n",
    "    if not (Ls[0] is None):\n",
    "        create_data(Ls[0], Ls[1], a_time, test=True)"
   ]
  }
 ],
 "metadata": {
  "kernelspec": {
   "display_name": "pytorch",
   "language": "python",
   "name": "pytorch"
  },
  "language_info": {
   "codemirror_mode": {
    "name": "ipython",
    "version": 3
   },
   "file_extension": ".py",
   "mimetype": "text/x-python",
   "name": "python",
   "nbconvert_exporter": "python",
   "pygments_lexer": "ipython3",
   "version": "3.7.12"
  }
 },
 "nbformat": 4,
 "nbformat_minor": 5
}
