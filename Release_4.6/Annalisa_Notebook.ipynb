{
 "cells": [
  {
   "cell_type": "markdown",
   "id": "6dadd414-a44e-450e-8dfc-8efb0c900d9d",
   "metadata": {
    "tags": []
   },
   "source": [
    "# ANNALISA GPU"
   ]
  },
  {
   "cell_type": "markdown",
   "id": "b1fdf444-1e69-44a0-a73a-89517ed749f4",
   "metadata": {},
   "source": [
    "**Advanced Non-linear transient-Noise Analyser of Laser Intererometer Sensor Arrays**"
   ]
  },
  {
   "cell_type": "markdown",
   "id": "4dfd73cd-db2d-48c8-97c0-4bbb650bee6d",
   "metadata": {},
   "source": [
    "## Set Device"
   ]
  },
  {
   "cell_type": "code",
   "execution_count": 1,
   "id": "f02b8993-c383-4cd4-84ed-05fa7e582b33",
   "metadata": {},
   "outputs": [
    {
     "name": "stdout",
     "output_type": "stream",
     "text": [
      "NVIDIA A100-PCIE-40GB\n",
      "device='cuda'\n"
     ]
    }
   ],
   "source": [
    "import torch\n",
    "if torch.cuda.is_available():\n",
    "    device = 'cuda'\n",
    "    print(torch.cuda.get_device_name(torch.cuda.current_device()))\n",
    "else:\n",
    "    device = 'cpu'\n",
    "print(f'{device=}')"
   ]
  },
  {
   "cell_type": "markdown",
   "id": "1367d9be-14e4-4a8c-bdf5-8db72064128b",
   "metadata": {
    "tags": []
   },
   "source": [
    "## Imports"
   ]
  },
  {
   "cell_type": "markdown",
   "id": "7db7aaa2-fae0-4b85-b5fa-b86065c1ab49",
   "metadata": {},
   "source": [
    "Check what imports are necessary and eliminate others"
   ]
  },
  {
   "cell_type": "code",
   "execution_count": 2,
   "id": "64b77620-b4fb-464e-9460-fd351046fa2d",
   "metadata": {},
   "outputs": [],
   "source": [
    "import h5py as h5\n",
    "import os\n",
    "import pandas as pd\n",
    "import matplotlib.pyplot as plt\n",
    "from os import listdir\n",
    "import numpy as np\n",
    "import matplotlib.mlab as mlab\n",
    "from torch.utils.data import DataLoader\n",
    "from torch.autograd import Variable\n",
    "import torch.nn as nn\n",
    "from  Peak_finder_torch import * "
   ]
  },
  {
   "cell_type": "code",
   "execution_count": 3,
   "id": "32ef0be5-fdaa-4b07-80aa-16330850bb29",
   "metadata": {},
   "outputs": [],
   "source": [
    "try:\n",
    "    from gwpy.timeseries import TimeSeries\n",
    "except ModuleNotFoundError:\n",
    "    !pip install --quiet gwpy\n",
    "    from gwpy.timeseries import TimeSeries\n",
    "from gwpy.frequencyseries import FrequencySeries\n",
    "from gwpy.signal import filter_design\n",
    "import time\n",
    "from tqdm import tqdm\n",
    "import json\n",
    "import torch\n",
    "import multiprocessing\n",
    "import math\n",
    "import csv\n",
    "import time"
   ]
  },
  {
   "cell_type": "code",
   "execution_count": 4,
   "id": "a34309a6-f962-4765-a119-11737206afda",
   "metadata": {},
   "outputs": [
    {
     "data": {
      "text/plain": [
       "<module 'qtransform_delta' from '/home/jovyan/qtransform_delta.py'>"
      ]
     },
     "execution_count": 4,
     "metadata": {},
     "output_type": "execute_result"
    }
   ],
   "source": [
    "from qtransform_gpu import * "
   ]
  },
  {
   "cell_type": "code",
   "execution_count": 5,
   "id": "f9556a0a-c25d-4548-bcff-3227218e0eef",
   "metadata": {},
   "outputs": [
    {
     "name": "stdout",
     "output_type": "stream",
     "text": [
      "NVIDIA A100-PCIE-40GB\n",
      "Running on device: device='cuda'\n",
      "NVIDIA A100-PCIE-40GB\n",
      "Running on device: device='cuda'\n"
     ]
    },
    {
     "data": {
      "text/plain": [
       "<module 'Preprocess' from '/home/jovyan/Preprocess.py'>"
      ]
     },
     "execution_count": 5,
     "metadata": {},
     "output_type": "execute_result"
    }
   ],
   "source": [
    "from Annalisa_gpu import * "
   ]
  },
  {
   "cell_type": "code",
   "execution_count": 6,
   "id": "61dbd43f-cf51-47e1-8708-952effa0ca75",
   "metadata": {},
   "outputs": [],
   "source": [
    "from ml4gw.transforms import SpectralDensity,Whiten"
   ]
  },
  {
   "cell_type": "markdown",
   "id": "1c2be2e8-598f-4ce2-ba2f-c763536ac690",
   "metadata": {
    "jp-MarkdownHeadingCollapsed": true,
    "tags": []
   },
   "source": [
    "## Load data"
   ]
  },
  {
   "cell_type": "markdown",
   "id": "25f5791d-ae30-43c5-adbe-9cf20389e292",
   "metadata": {},
   "source": [
    "Load data form local storage as .h5 files "
   ]
  },
  {
   "cell_type": "code",
   "execution_count": 10,
   "id": "17312ee1-8939-4f24-a757-1c8501a2bc19",
   "metadata": {},
   "outputs": [],
   "source": [
    "h5_path_raw='/data/datasets/intertwin-dati-aux/gspy_O3a_Scattered_Light_V1_linear_corrs'\n",
    "target_raw='V1:Hrec_hoft_raw_20000Hz'"
   ]
  },
  {
   "cell_type": "code",
   "execution_count": 6,
   "id": "2b4e60a3-959e-4eba-82fd-bad243385f0e",
   "metadata": {},
   "outputs": [],
   "source": [
    "h5_path_rec='/data/datasets/intertwin-dati-aux/gspy_O3a_Scattered_Light_V1'\n",
    "target_rec='V1:Hrec_hoft_16384Hz'"
   ]
  },
  {
   "cell_type": "code",
   "execution_count": null,
   "id": "d0b6ecb2-386e-4516-b8eb-24bda4ced4ec",
   "metadata": {},
   "outputs": [],
   "source": [
    "df_raw=construct_dataframe(path=h5_path_raw, channel_list=None, target_channel=target_raw, n1_events=None, n2_events=None, n1_channels=None, n2_channels=None, print_=True, sr=False)"
   ]
  },
  {
   "cell_type": "code",
   "execution_count": null,
   "id": "be98b988-7f40-46d2-9de6-12803f3b1abd",
   "metadata": {},
   "outputs": [],
   "source": [
    "df_rec=construct_dataframe(path=h5_path_rec, channel_list=CH, target_channel=target_rec, n1_events=None, n2_events=None, n1_channels=None, n2_channels=20, print_=True, sr=False)"
   ]
  },
  {
   "cell_type": "code",
   "execution_count": 18,
   "id": "48de672b-43e0-4838-a3ca-a7d087bc89c8",
   "metadata": {},
   "outputs": [
    {
     "data": {
      "text/plain": [
       "(11882, 18)"
      ]
     },
     "execution_count": 18,
     "metadata": {},
     "output_type": "execute_result"
    }
   ],
   "source": [
    "df_rec.shape"
   ]
  },
  {
   "cell_type": "code",
   "execution_count": 13,
   "id": "cca6a7a0-d712-4bfa-a821-5c308e68c8d8",
   "metadata": {},
   "outputs": [
    {
     "data": {
      "text/html": [
       "<div>\n",
       "<style scoped>\n",
       "    .dataframe tbody tr th:only-of-type {\n",
       "        vertical-align: middle;\n",
       "    }\n",
       "\n",
       "    .dataframe tbody tr th {\n",
       "        vertical-align: top;\n",
       "    }\n",
       "\n",
       "    .dataframe thead th {\n",
       "        text-align: right;\n",
       "    }\n",
       "</style>\n",
       "<table border=\"1\" class=\"dataframe\">\n",
       "  <thead>\n",
       "    <tr style=\"text-align: right;\">\n",
       "      <th></th>\n",
       "      <th>Event ID</th>\n",
       "      <th>V1:Hrec_hoft_16384Hz</th>\n",
       "      <th>V1:ENV_METEO_WIND_DIR</th>\n",
       "      <th>V1:ENV_METEO_WIND_SPD</th>\n",
       "      <th>V1:ENV_NEB_SEIS_N</th>\n",
       "      <th>V1:ENV_NEB_SEIS_V</th>\n",
       "      <th>V1:ENV_NEB_SEIS_W</th>\n",
       "      <th>V1:INJ_IMC_TRA_DC</th>\n",
       "      <th>V1:LSC_DARM_ERR</th>\n",
       "      <th>V1:LSC_MICH_ERR</th>\n",
       "      <th>V1:LSC_NE_CORR</th>\n",
       "      <th>V1:LSC_PRCL_ERR</th>\n",
       "      <th>V1:LSC_PR_CORR</th>\n",
       "      <th>V1:Sa_NE_F0_LVDT_V_500Hz</th>\n",
       "      <th>V1:Sa_NE_F0_TY_500Hz</th>\n",
       "      <th>V1:Sa_NE_F0_X_500Hz</th>\n",
       "      <th>V1:Sa_NE_F0_Z_500Hz</th>\n",
       "      <th>V1:Sc_MC_MIR_Z_CORR</th>\n",
       "    </tr>\n",
       "  </thead>\n",
       "  <tbody>\n",
       "    <tr>\n",
       "      <th>0</th>\n",
       "      <td>DdncGnx3ph</td>\n",
       "      <td>[TimeSeries(-2.29567063e-18\\n           unit: ...</td>\n",
       "      <td>[TimeSeries(14.15\\n           unit: dimensionl...</td>\n",
       "      <td>[TimeSeries(44.672\\n           unit: dimension...</td>\n",
       "      <td>[TimeSeries(5077.54\\n           unit: dimensio...</td>\n",
       "      <td>[TimeSeries(1704.15\\n           unit: dimensio...</td>\n",
       "      <td>[TimeSeries(2530.73\\n           unit: dimensio...</td>\n",
       "      <td>[TimeSeries(-268441.45639626\\n           unit:...</td>\n",
       "      <td>[TimeSeries(-4.1042317e-06\\n           unit: d...</td>\n",
       "      <td>[TimeSeries(0.5400074\\n           unit: dimens...</td>\n",
       "      <td>[TimeSeries(1.7821774\\n           unit: dimens...</td>\n",
       "      <td>[TimeSeries(2.6768015e-05\\n           unit: di...</td>\n",
       "      <td>[TimeSeries(4.2447248\\n           unit: dimens...</td>\n",
       "      <td>[TimeSeries(-260.73352\\n           unit: dimen...</td>\n",
       "      <td>[TimeSeries(-0.16767003\\n           unit: dime...</td>\n",
       "      <td>[TimeSeries(0.43042922\\n           unit: dimen...</td>\n",
       "      <td>[TimeSeries(-161.22325\\n           unit: dimen...</td>\n",
       "      <td>[TimeSeries(-0.85617304\\n           unit: dime...</td>\n",
       "    </tr>\n",
       "    <tr>\n",
       "      <th>1</th>\n",
       "      <td>F5TczvmxTN</td>\n",
       "      <td>[TimeSeries(-5.89375989e-20\\n           unit: ...</td>\n",
       "      <td>[TimeSeries(148.\\n           unit: dimensionle...</td>\n",
       "      <td>[TimeSeries(0.\\n           unit: dimensionless...</td>\n",
       "      <td>[TimeSeries(5150.53\\n           unit: dimensio...</td>\n",
       "      <td>[TimeSeries(1654.94\\n           unit: dimensio...</td>\n",
       "      <td>[TimeSeries(2428.08\\n           unit: dimensio...</td>\n",
       "      <td>[TimeSeries(-262367.38080751\\n           unit:...</td>\n",
       "      <td>[TimeSeries(3.4738642e-07\\n           unit: di...</td>\n",
       "      <td>[TimeSeries(0.06838007\\n           unit: dimen...</td>\n",
       "      <td>[TimeSeries(-0.17641005\\n           unit: dime...</td>\n",
       "      <td>[TimeSeries(1.8503602e-05\\n           unit: di...</td>\n",
       "      <td>[TimeSeries(-0.00083549\\n           unit: dime...</td>\n",
       "      <td>[TimeSeries(-259.9595\\n           unit: dimens...</td>\n",
       "      <td>[TimeSeries(0.06821006\\n           unit: dimen...</td>\n",
       "      <td>[TimeSeries(-0.09688703\\n           unit: dime...</td>\n",
       "      <td>[TimeSeries(-10.292362\\n           unit: dimen...</td>\n",
       "      <td>[TimeSeries(-0.08829498\\n           unit: dime...</td>\n",
       "    </tr>\n",
       "    <tr>\n",
       "      <th>2</th>\n",
       "      <td>GuH8LYoP65</td>\n",
       "      <td>[TimeSeries(-5.47180623e-20\\n           unit: ...</td>\n",
       "      <td>[TimeSeries(241.69\\n           unit: dimension...</td>\n",
       "      <td>[TimeSeries(26.464\\n           unit: dimension...</td>\n",
       "      <td>[TimeSeries(5244.53\\n           unit: dimensio...</td>\n",
       "      <td>[TimeSeries(1261.85\\n           unit: dimensio...</td>\n",
       "      <td>[TimeSeries(1511.39\\n           unit: dimensio...</td>\n",
       "      <td>[TimeSeries(-253709.67078142\\n           unit:...</td>\n",
       "      <td>[TimeSeries(2.5354979e-07\\n           unit: di...</td>\n",
       "      <td>[TimeSeries(0.02219082\\n           unit: dimen...</td>\n",
       "      <td>[TimeSeries(-0.5015571\\n           unit: dimen...</td>\n",
       "      <td>[TimeSeries(4.6051455e-06\\n           unit: di...</td>\n",
       "      <td>[TimeSeries(-0.6472094\\n           unit: dimen...</td>\n",
       "      <td>[TimeSeries(-259.8319\\n           unit: dimens...</td>\n",
       "      <td>[TimeSeries(-0.2634932\\n           unit: dimen...</td>\n",
       "      <td>[TimeSeries(3.062007\\n           unit: dimensi...</td>\n",
       "      <td>[TimeSeries(-32.586617\\n           unit: dimen...</td>\n",
       "      <td>[TimeSeries(0.02153816\\n           unit: dimen...</td>\n",
       "    </tr>\n",
       "    <tr>\n",
       "      <th>3</th>\n",
       "      <td>dySNb3H9q7</td>\n",
       "      <td>[TimeSeries(7.41643571e-19\\n           unit: d...</td>\n",
       "      <td>[TimeSeries(271.7\\n           unit: dimensionl...</td>\n",
       "      <td>[TimeSeries(21.168\\n           unit: dimension...</td>\n",
       "      <td>[TimeSeries(5459.84\\n           unit: dimensio...</td>\n",
       "      <td>[TimeSeries(1449.05\\n           unit: dimensio...</td>\n",
       "      <td>[TimeSeries(2178.94\\n           unit: dimensio...</td>\n",
       "      <td>[TimeSeries(-255786.40338452\\n           unit:...</td>\n",
       "      <td>[TimeSeries(4.8717357e-07\\n           unit: di...</td>\n",
       "      <td>[TimeSeries(0.07807747\\n           unit: dimen...</td>\n",
       "      <td>[TimeSeries(-0.3615009\\n           unit: dimen...</td>\n",
       "      <td>[TimeSeries(-1.3233277e-05\\n           unit: d...</td>\n",
       "      <td>[TimeSeries(0.09987321\\n           unit: dimen...</td>\n",
       "      <td>[TimeSeries(-260.24353\\n           unit: dimen...</td>\n",
       "      <td>[TimeSeries(0.07252145\\n           unit: dimen...</td>\n",
       "      <td>[TimeSeries(0.12821229\\n           unit: dimen...</td>\n",
       "      <td>[TimeSeries(33.280964\\n           unit: dimens...</td>\n",
       "      <td>[TimeSeries(0.58094287\\n           unit: dimen...</td>\n",
       "    </tr>\n",
       "    <tr>\n",
       "      <th>4</th>\n",
       "      <td>gPrBiWcNey</td>\n",
       "      <td>[TimeSeries(-2.34829179e-20\\n           unit: ...</td>\n",
       "      <td>[TimeSeries(63.989998\\n           unit: dimens...</td>\n",
       "      <td>[TimeSeries(19.568\\n           unit: dimension...</td>\n",
       "      <td>[TimeSeries(4848.96\\n           unit: dimensio...</td>\n",
       "      <td>[TimeSeries(1654.9\\n           unit: dimension...</td>\n",
       "      <td>[TimeSeries(2969.01\\n           unit: dimensio...</td>\n",
       "      <td>[TimeSeries(-262100.85391804\\n           unit:...</td>\n",
       "      <td>[TimeSeries(8.0945966e-08\\n           unit: di...</td>\n",
       "      <td>[TimeSeries(0.12571496\\n           unit: dimen...</td>\n",
       "      <td>[TimeSeries(0.15518437\\n           unit: dimen...</td>\n",
       "      <td>[TimeSeries(2.6477462e-06\\n           unit: di...</td>\n",
       "      <td>[TimeSeries(-0.36763057\\n           unit: dime...</td>\n",
       "      <td>[TimeSeries(-260.2262\\n           unit: dimens...</td>\n",
       "      <td>[TimeSeries(0.05228283\\n           unit: dimen...</td>\n",
       "      <td>[TimeSeries(-1.8886545\\n           unit: dimen...</td>\n",
       "      <td>[TimeSeries(59.529575\\n           unit: dimens...</td>\n",
       "      <td>[TimeSeries(0.1747001\\n           unit: dimens...</td>\n",
       "    </tr>\n",
       "  </tbody>\n",
       "</table>\n",
       "</div>"
      ],
      "text/plain": [
       "     Event ID                               V1:Hrec_hoft_16384Hz   \n",
       "0  DdncGnx3ph  [TimeSeries(-2.29567063e-18\\n           unit: ...  \\\n",
       "1  F5TczvmxTN  [TimeSeries(-5.89375989e-20\\n           unit: ...   \n",
       "2  GuH8LYoP65  [TimeSeries(-5.47180623e-20\\n           unit: ...   \n",
       "3  dySNb3H9q7  [TimeSeries(7.41643571e-19\\n           unit: d...   \n",
       "4  gPrBiWcNey  [TimeSeries(-2.34829179e-20\\n           unit: ...   \n",
       "\n",
       "                               V1:ENV_METEO_WIND_DIR   \n",
       "0  [TimeSeries(14.15\\n           unit: dimensionl...  \\\n",
       "1  [TimeSeries(148.\\n           unit: dimensionle...   \n",
       "2  [TimeSeries(241.69\\n           unit: dimension...   \n",
       "3  [TimeSeries(271.7\\n           unit: dimensionl...   \n",
       "4  [TimeSeries(63.989998\\n           unit: dimens...   \n",
       "\n",
       "                               V1:ENV_METEO_WIND_SPD   \n",
       "0  [TimeSeries(44.672\\n           unit: dimension...  \\\n",
       "1  [TimeSeries(0.\\n           unit: dimensionless...   \n",
       "2  [TimeSeries(26.464\\n           unit: dimension...   \n",
       "3  [TimeSeries(21.168\\n           unit: dimension...   \n",
       "4  [TimeSeries(19.568\\n           unit: dimension...   \n",
       "\n",
       "                                   V1:ENV_NEB_SEIS_N   \n",
       "0  [TimeSeries(5077.54\\n           unit: dimensio...  \\\n",
       "1  [TimeSeries(5150.53\\n           unit: dimensio...   \n",
       "2  [TimeSeries(5244.53\\n           unit: dimensio...   \n",
       "3  [TimeSeries(5459.84\\n           unit: dimensio...   \n",
       "4  [TimeSeries(4848.96\\n           unit: dimensio...   \n",
       "\n",
       "                                   V1:ENV_NEB_SEIS_V   \n",
       "0  [TimeSeries(1704.15\\n           unit: dimensio...  \\\n",
       "1  [TimeSeries(1654.94\\n           unit: dimensio...   \n",
       "2  [TimeSeries(1261.85\\n           unit: dimensio...   \n",
       "3  [TimeSeries(1449.05\\n           unit: dimensio...   \n",
       "4  [TimeSeries(1654.9\\n           unit: dimension...   \n",
       "\n",
       "                                   V1:ENV_NEB_SEIS_W   \n",
       "0  [TimeSeries(2530.73\\n           unit: dimensio...  \\\n",
       "1  [TimeSeries(2428.08\\n           unit: dimensio...   \n",
       "2  [TimeSeries(1511.39\\n           unit: dimensio...   \n",
       "3  [TimeSeries(2178.94\\n           unit: dimensio...   \n",
       "4  [TimeSeries(2969.01\\n           unit: dimensio...   \n",
       "\n",
       "                                   V1:INJ_IMC_TRA_DC   \n",
       "0  [TimeSeries(-268441.45639626\\n           unit:...  \\\n",
       "1  [TimeSeries(-262367.38080751\\n           unit:...   \n",
       "2  [TimeSeries(-253709.67078142\\n           unit:...   \n",
       "3  [TimeSeries(-255786.40338452\\n           unit:...   \n",
       "4  [TimeSeries(-262100.85391804\\n           unit:...   \n",
       "\n",
       "                                     V1:LSC_DARM_ERR   \n",
       "0  [TimeSeries(-4.1042317e-06\\n           unit: d...  \\\n",
       "1  [TimeSeries(3.4738642e-07\\n           unit: di...   \n",
       "2  [TimeSeries(2.5354979e-07\\n           unit: di...   \n",
       "3  [TimeSeries(4.8717357e-07\\n           unit: di...   \n",
       "4  [TimeSeries(8.0945966e-08\\n           unit: di...   \n",
       "\n",
       "                                     V1:LSC_MICH_ERR   \n",
       "0  [TimeSeries(0.5400074\\n           unit: dimens...  \\\n",
       "1  [TimeSeries(0.06838007\\n           unit: dimen...   \n",
       "2  [TimeSeries(0.02219082\\n           unit: dimen...   \n",
       "3  [TimeSeries(0.07807747\\n           unit: dimen...   \n",
       "4  [TimeSeries(0.12571496\\n           unit: dimen...   \n",
       "\n",
       "                                      V1:LSC_NE_CORR   \n",
       "0  [TimeSeries(1.7821774\\n           unit: dimens...  \\\n",
       "1  [TimeSeries(-0.17641005\\n           unit: dime...   \n",
       "2  [TimeSeries(-0.5015571\\n           unit: dimen...   \n",
       "3  [TimeSeries(-0.3615009\\n           unit: dimen...   \n",
       "4  [TimeSeries(0.15518437\\n           unit: dimen...   \n",
       "\n",
       "                                     V1:LSC_PRCL_ERR   \n",
       "0  [TimeSeries(2.6768015e-05\\n           unit: di...  \\\n",
       "1  [TimeSeries(1.8503602e-05\\n           unit: di...   \n",
       "2  [TimeSeries(4.6051455e-06\\n           unit: di...   \n",
       "3  [TimeSeries(-1.3233277e-05\\n           unit: d...   \n",
       "4  [TimeSeries(2.6477462e-06\\n           unit: di...   \n",
       "\n",
       "                                      V1:LSC_PR_CORR   \n",
       "0  [TimeSeries(4.2447248\\n           unit: dimens...  \\\n",
       "1  [TimeSeries(-0.00083549\\n           unit: dime...   \n",
       "2  [TimeSeries(-0.6472094\\n           unit: dimen...   \n",
       "3  [TimeSeries(0.09987321\\n           unit: dimen...   \n",
       "4  [TimeSeries(-0.36763057\\n           unit: dime...   \n",
       "\n",
       "                            V1:Sa_NE_F0_LVDT_V_500Hz   \n",
       "0  [TimeSeries(-260.73352\\n           unit: dimen...  \\\n",
       "1  [TimeSeries(-259.9595\\n           unit: dimens...   \n",
       "2  [TimeSeries(-259.8319\\n           unit: dimens...   \n",
       "3  [TimeSeries(-260.24353\\n           unit: dimen...   \n",
       "4  [TimeSeries(-260.2262\\n           unit: dimens...   \n",
       "\n",
       "                                V1:Sa_NE_F0_TY_500Hz   \n",
       "0  [TimeSeries(-0.16767003\\n           unit: dime...  \\\n",
       "1  [TimeSeries(0.06821006\\n           unit: dimen...   \n",
       "2  [TimeSeries(-0.2634932\\n           unit: dimen...   \n",
       "3  [TimeSeries(0.07252145\\n           unit: dimen...   \n",
       "4  [TimeSeries(0.05228283\\n           unit: dimen...   \n",
       "\n",
       "                                 V1:Sa_NE_F0_X_500Hz   \n",
       "0  [TimeSeries(0.43042922\\n           unit: dimen...  \\\n",
       "1  [TimeSeries(-0.09688703\\n           unit: dime...   \n",
       "2  [TimeSeries(3.062007\\n           unit: dimensi...   \n",
       "3  [TimeSeries(0.12821229\\n           unit: dimen...   \n",
       "4  [TimeSeries(-1.8886545\\n           unit: dimen...   \n",
       "\n",
       "                                 V1:Sa_NE_F0_Z_500Hz   \n",
       "0  [TimeSeries(-161.22325\\n           unit: dimen...  \\\n",
       "1  [TimeSeries(-10.292362\\n           unit: dimen...   \n",
       "2  [TimeSeries(-32.586617\\n           unit: dimen...   \n",
       "3  [TimeSeries(33.280964\\n           unit: dimens...   \n",
       "4  [TimeSeries(59.529575\\n           unit: dimens...   \n",
       "\n",
       "                                 V1:Sc_MC_MIR_Z_CORR  \n",
       "0  [TimeSeries(-0.85617304\\n           unit: dime...  \n",
       "1  [TimeSeries(-0.08829498\\n           unit: dime...  \n",
       "2  [TimeSeries(0.02153816\\n           unit: dimen...  \n",
       "3  [TimeSeries(0.58094287\\n           unit: dimen...  \n",
       "4  [TimeSeries(0.1747001\\n           unit: dimens...  "
      ]
     },
     "execution_count": 13,
     "metadata": {},
     "output_type": "execute_result"
    }
   ],
   "source": [
    "df_rec.head()"
   ]
  },
  {
   "cell_type": "code",
   "execution_count": 17,
   "id": "374c0664-a654-4d3c-bd28-56d21699ebf3",
   "metadata": {},
   "outputs": [
    {
     "data": {
      "text/plain": [
       "(11333, 16)"
      ]
     },
     "execution_count": 17,
     "metadata": {},
     "output_type": "execute_result"
    }
   ],
   "source": [
    "df_raw.shape"
   ]
  },
  {
   "cell_type": "code",
   "execution_count": 35,
   "id": "4c2c88b8-3e82-4667-9310-3da422301940",
   "metadata": {},
   "outputs": [
    {
     "data": {
      "text/html": [
       "<div>\n",
       "<style scoped>\n",
       "    .dataframe tbody tr th:only-of-type {\n",
       "        vertical-align: middle;\n",
       "    }\n",
       "\n",
       "    .dataframe tbody tr th {\n",
       "        vertical-align: top;\n",
       "    }\n",
       "\n",
       "    .dataframe thead th {\n",
       "        text-align: right;\n",
       "    }\n",
       "</style>\n",
       "<table border=\"1\" class=\"dataframe\">\n",
       "  <thead>\n",
       "    <tr style=\"text-align: right;\">\n",
       "      <th></th>\n",
       "      <th>Event ID</th>\n",
       "      <th>V1:Hrec_hoft_raw_20000Hz</th>\n",
       "      <th>V1:LSC_CARM</th>\n",
       "      <th>V1:LSC_CARM_CORR</th>\n",
       "      <th>V1:LSC_CARM_ERR</th>\n",
       "      <th>V1:LSC_CARM_NOISE</th>\n",
       "      <th>V1:LSC_DARM</th>\n",
       "      <th>V1:LSC_DARM_CORR</th>\n",
       "      <th>V1:LSC_DARM_NOISE</th>\n",
       "      <th>V1:LSC_MICH</th>\n",
       "      <th>V1:LSC_MICH_CORR</th>\n",
       "      <th>V1:LSC_MICH_NOISE</th>\n",
       "      <th>V1:LSC_PRCL</th>\n",
       "      <th>V1:LSC_PRCL_CORR</th>\n",
       "      <th>V1:LSC_PRCL_ERR</th>\n",
       "      <th>V1:LSC_PRCL_NOISE</th>\n",
       "    </tr>\n",
       "  </thead>\n",
       "  <tbody>\n",
       "    <tr>\n",
       "      <th>0</th>\n",
       "      <td>J2yIBIg08H</td>\n",
       "      <td>[TimeSeries(2.6208163e-19\\n           unit: di...</td>\n",
       "      <td>[TimeSeries(0.\\n           unit: dimensionless...</td>\n",
       "      <td>[TimeSeries(0.\\n           unit: dimensionless...</td>\n",
       "      <td>[TimeSeries(0.\\n           unit: dimensionless...</td>\n",
       "      <td>[TimeSeries(0.\\n           unit: dimensionless...</td>\n",
       "      <td>[TimeSeries(1.2349406e-06\\n           unit: di...</td>\n",
       "      <td>[TimeSeries(-0.98789257\\n           unit: dime...</td>\n",
       "      <td>[TimeSeries(9.704231e-10\\n           unit: dim...</td>\n",
       "      <td>[TimeSeries(-0.0247214\\n           unit: dimen...</td>\n",
       "      <td>[TimeSeries(0.25829658\\n           unit: dimen...</td>\n",
       "      <td>[TimeSeries(0.\\n           unit: dimensionless...</td>\n",
       "      <td>[TimeSeries(1.4526501e-05\\n           unit: di...</td>\n",
       "      <td>[TimeSeries(-0.22812983\\n           unit: dime...</td>\n",
       "      <td>[TimeSeries(1.4526501e-05\\n           unit: di...</td>\n",
       "      <td>[TimeSeries(0.\\n           unit: dimensionless...</td>\n",
       "    </tr>\n",
       "    <tr>\n",
       "      <th>1</th>\n",
       "      <td>YBjpyixbjw</td>\n",
       "      <td>[TimeSeries(5.13095e-20\\n           unit: dime...</td>\n",
       "      <td>[TimeSeries(0.\\n           unit: dimensionless...</td>\n",
       "      <td>[TimeSeries(0.\\n           unit: dimensionless...</td>\n",
       "      <td>[TimeSeries(0.\\n           unit: dimensionless...</td>\n",
       "      <td>[TimeSeries(0.\\n           unit: dimensionless...</td>\n",
       "      <td>[TimeSeries(4.3513512e-07\\n           unit: di...</td>\n",
       "      <td>[TimeSeries(0.87965035\\n           unit: dimen...</td>\n",
       "      <td>[TimeSeries(-8.1330215e-10\\n           unit: d...</td>\n",
       "      <td>[TimeSeries(0.08612892\\n           unit: dimen...</td>\n",
       "      <td>[TimeSeries(0.29637858\\n           unit: dimen...</td>\n",
       "      <td>[TimeSeries(0.\\n           unit: dimensionless...</td>\n",
       "      <td>[TimeSeries(1.6866796e-05\\n           unit: di...</td>\n",
       "      <td>[TimeSeries(-0.20654573\\n           unit: dime...</td>\n",
       "      <td>[TimeSeries(1.6866796e-05\\n           unit: di...</td>\n",
       "      <td>[TimeSeries(0.\\n           unit: dimensionless...</td>\n",
       "    </tr>\n",
       "    <tr>\n",
       "      <th>2</th>\n",
       "      <td>cs3ZzeVkm6</td>\n",
       "      <td>[TimeSeries(-1.662892e-19\\n           unit: di...</td>\n",
       "      <td>[TimeSeries(0.\\n           unit: dimensionless...</td>\n",
       "      <td>[TimeSeries(0.\\n           unit: dimensionless...</td>\n",
       "      <td>[TimeSeries(0.\\n           unit: dimensionless...</td>\n",
       "      <td>[TimeSeries(0.\\n           unit: dimensionless...</td>\n",
       "      <td>[TimeSeries(-8.222554e-08\\n           unit: di...</td>\n",
       "      <td>[TimeSeries(0.62270653\\n           unit: dimen...</td>\n",
       "      <td>[TimeSeries(-3.4552758e-10\\n           unit: d...</td>\n",
       "      <td>[TimeSeries(0.00088814\\n           unit: dimen...</td>\n",
       "      <td>[TimeSeries(-0.15669861\\n           unit: dime...</td>\n",
       "      <td>[TimeSeries(0.\\n           unit: dimensionless...</td>\n",
       "      <td>[TimeSeries(3.683751e-06\\n           unit: dim...</td>\n",
       "      <td>[TimeSeries(-0.14784397\\n           unit: dime...</td>\n",
       "      <td>[TimeSeries(3.683751e-06\\n           unit: dim...</td>\n",
       "      <td>[TimeSeries(0.\\n           unit: dimensionless...</td>\n",
       "    </tr>\n",
       "    <tr>\n",
       "      <th>3</th>\n",
       "      <td>Ot07uGid3J</td>\n",
       "      <td>[TimeSeries(-1.1273905e-18\\n           unit: d...</td>\n",
       "      <td>[TimeSeries(0.\\n           unit: dimensionless...</td>\n",
       "      <td>[TimeSeries(0.\\n           unit: dimensionless...</td>\n",
       "      <td>[TimeSeries(0.\\n           unit: dimensionless...</td>\n",
       "      <td>[TimeSeries(0.\\n           unit: dimensionless...</td>\n",
       "      <td>[TimeSeries(-1.75163e-06\\n           unit: dim...</td>\n",
       "      <td>[TimeSeries(0.10104641\\n           unit: dimen...</td>\n",
       "      <td>[TimeSeries(-8.13302e-10\\n           unit: dim...</td>\n",
       "      <td>[TimeSeries(-0.05311267\\n           unit: dime...</td>\n",
       "      <td>[TimeSeries(-0.36259654\\n           unit: dime...</td>\n",
       "      <td>[TimeSeries(0.\\n           unit: dimensionless...</td>\n",
       "      <td>[TimeSeries(2.4482491e-05\\n           unit: di...</td>\n",
       "      <td>[TimeSeries(-0.00999739\\n           unit: dime...</td>\n",
       "      <td>[TimeSeries(2.4482491e-05\\n           unit: di...</td>\n",
       "      <td>[TimeSeries(0.\\n           unit: dimensionless...</td>\n",
       "    </tr>\n",
       "    <tr>\n",
       "      <th>4</th>\n",
       "      <td>U2xyBDwfrz</td>\n",
       "      <td>[TimeSeries(-6.840366e-20\\n           unit: di...</td>\n",
       "      <td>[TimeSeries(0.\\n           unit: dimensionless...</td>\n",
       "      <td>[TimeSeries(0.\\n           unit: dimensionless...</td>\n",
       "      <td>[TimeSeries(0.\\n           unit: dimensionless...</td>\n",
       "      <td>[TimeSeries(0.\\n           unit: dimensionless...</td>\n",
       "      <td>[TimeSeries(-4.3780318e-07\\n           unit: d...</td>\n",
       "      <td>[TimeSeries(-0.6388988\\n           unit: dimen...</td>\n",
       "      <td>[TimeSeries(-1.7333737e-09\\n           unit: d...</td>\n",
       "      <td>[TimeSeries(-0.03087924\\n           unit: dime...</td>\n",
       "      <td>[TimeSeries(-0.40519664\\n           unit: dime...</td>\n",
       "      <td>[TimeSeries(0.\\n           unit: dimensionless...</td>\n",
       "      <td>[TimeSeries(3.8032267e-05\\n           unit: di...</td>\n",
       "      <td>[TimeSeries(-0.0844243\\n           unit: dimen...</td>\n",
       "      <td>[TimeSeries(3.8032267e-05\\n           unit: di...</td>\n",
       "      <td>[TimeSeries(0.\\n           unit: dimensionless...</td>\n",
       "    </tr>\n",
       "  </tbody>\n",
       "</table>\n",
       "</div>"
      ],
      "text/plain": [
       "     Event ID                           V1:Hrec_hoft_raw_20000Hz   \n",
       "0  J2yIBIg08H  [TimeSeries(2.6208163e-19\\n           unit: di...  \\\n",
       "1  YBjpyixbjw  [TimeSeries(5.13095e-20\\n           unit: dime...   \n",
       "2  cs3ZzeVkm6  [TimeSeries(-1.662892e-19\\n           unit: di...   \n",
       "3  Ot07uGid3J  [TimeSeries(-1.1273905e-18\\n           unit: d...   \n",
       "4  U2xyBDwfrz  [TimeSeries(-6.840366e-20\\n           unit: di...   \n",
       "\n",
       "                                         V1:LSC_CARM   \n",
       "0  [TimeSeries(0.\\n           unit: dimensionless...  \\\n",
       "1  [TimeSeries(0.\\n           unit: dimensionless...   \n",
       "2  [TimeSeries(0.\\n           unit: dimensionless...   \n",
       "3  [TimeSeries(0.\\n           unit: dimensionless...   \n",
       "4  [TimeSeries(0.\\n           unit: dimensionless...   \n",
       "\n",
       "                                    V1:LSC_CARM_CORR   \n",
       "0  [TimeSeries(0.\\n           unit: dimensionless...  \\\n",
       "1  [TimeSeries(0.\\n           unit: dimensionless...   \n",
       "2  [TimeSeries(0.\\n           unit: dimensionless...   \n",
       "3  [TimeSeries(0.\\n           unit: dimensionless...   \n",
       "4  [TimeSeries(0.\\n           unit: dimensionless...   \n",
       "\n",
       "                                     V1:LSC_CARM_ERR   \n",
       "0  [TimeSeries(0.\\n           unit: dimensionless...  \\\n",
       "1  [TimeSeries(0.\\n           unit: dimensionless...   \n",
       "2  [TimeSeries(0.\\n           unit: dimensionless...   \n",
       "3  [TimeSeries(0.\\n           unit: dimensionless...   \n",
       "4  [TimeSeries(0.\\n           unit: dimensionless...   \n",
       "\n",
       "                                   V1:LSC_CARM_NOISE   \n",
       "0  [TimeSeries(0.\\n           unit: dimensionless...  \\\n",
       "1  [TimeSeries(0.\\n           unit: dimensionless...   \n",
       "2  [TimeSeries(0.\\n           unit: dimensionless...   \n",
       "3  [TimeSeries(0.\\n           unit: dimensionless...   \n",
       "4  [TimeSeries(0.\\n           unit: dimensionless...   \n",
       "\n",
       "                                         V1:LSC_DARM   \n",
       "0  [TimeSeries(1.2349406e-06\\n           unit: di...  \\\n",
       "1  [TimeSeries(4.3513512e-07\\n           unit: di...   \n",
       "2  [TimeSeries(-8.222554e-08\\n           unit: di...   \n",
       "3  [TimeSeries(-1.75163e-06\\n           unit: dim...   \n",
       "4  [TimeSeries(-4.3780318e-07\\n           unit: d...   \n",
       "\n",
       "                                    V1:LSC_DARM_CORR   \n",
       "0  [TimeSeries(-0.98789257\\n           unit: dime...  \\\n",
       "1  [TimeSeries(0.87965035\\n           unit: dimen...   \n",
       "2  [TimeSeries(0.62270653\\n           unit: dimen...   \n",
       "3  [TimeSeries(0.10104641\\n           unit: dimen...   \n",
       "4  [TimeSeries(-0.6388988\\n           unit: dimen...   \n",
       "\n",
       "                                   V1:LSC_DARM_NOISE   \n",
       "0  [TimeSeries(9.704231e-10\\n           unit: dim...  \\\n",
       "1  [TimeSeries(-8.1330215e-10\\n           unit: d...   \n",
       "2  [TimeSeries(-3.4552758e-10\\n           unit: d...   \n",
       "3  [TimeSeries(-8.13302e-10\\n           unit: dim...   \n",
       "4  [TimeSeries(-1.7333737e-09\\n           unit: d...   \n",
       "\n",
       "                                         V1:LSC_MICH   \n",
       "0  [TimeSeries(-0.0247214\\n           unit: dimen...  \\\n",
       "1  [TimeSeries(0.08612892\\n           unit: dimen...   \n",
       "2  [TimeSeries(0.00088814\\n           unit: dimen...   \n",
       "3  [TimeSeries(-0.05311267\\n           unit: dime...   \n",
       "4  [TimeSeries(-0.03087924\\n           unit: dime...   \n",
       "\n",
       "                                    V1:LSC_MICH_CORR   \n",
       "0  [TimeSeries(0.25829658\\n           unit: dimen...  \\\n",
       "1  [TimeSeries(0.29637858\\n           unit: dimen...   \n",
       "2  [TimeSeries(-0.15669861\\n           unit: dime...   \n",
       "3  [TimeSeries(-0.36259654\\n           unit: dime...   \n",
       "4  [TimeSeries(-0.40519664\\n           unit: dime...   \n",
       "\n",
       "                                   V1:LSC_MICH_NOISE   \n",
       "0  [TimeSeries(0.\\n           unit: dimensionless...  \\\n",
       "1  [TimeSeries(0.\\n           unit: dimensionless...   \n",
       "2  [TimeSeries(0.\\n           unit: dimensionless...   \n",
       "3  [TimeSeries(0.\\n           unit: dimensionless...   \n",
       "4  [TimeSeries(0.\\n           unit: dimensionless...   \n",
       "\n",
       "                                         V1:LSC_PRCL   \n",
       "0  [TimeSeries(1.4526501e-05\\n           unit: di...  \\\n",
       "1  [TimeSeries(1.6866796e-05\\n           unit: di...   \n",
       "2  [TimeSeries(3.683751e-06\\n           unit: dim...   \n",
       "3  [TimeSeries(2.4482491e-05\\n           unit: di...   \n",
       "4  [TimeSeries(3.8032267e-05\\n           unit: di...   \n",
       "\n",
       "                                    V1:LSC_PRCL_CORR   \n",
       "0  [TimeSeries(-0.22812983\\n           unit: dime...  \\\n",
       "1  [TimeSeries(-0.20654573\\n           unit: dime...   \n",
       "2  [TimeSeries(-0.14784397\\n           unit: dime...   \n",
       "3  [TimeSeries(-0.00999739\\n           unit: dime...   \n",
       "4  [TimeSeries(-0.0844243\\n           unit: dimen...   \n",
       "\n",
       "                                     V1:LSC_PRCL_ERR   \n",
       "0  [TimeSeries(1.4526501e-05\\n           unit: di...  \\\n",
       "1  [TimeSeries(1.6866796e-05\\n           unit: di...   \n",
       "2  [TimeSeries(3.683751e-06\\n           unit: dim...   \n",
       "3  [TimeSeries(2.4482491e-05\\n           unit: di...   \n",
       "4  [TimeSeries(3.8032267e-05\\n           unit: di...   \n",
       "\n",
       "                                   V1:LSC_PRCL_NOISE  \n",
       "0  [TimeSeries(0.\\n           unit: dimensionless...  \n",
       "1  [TimeSeries(0.\\n           unit: dimensionless...  \n",
       "2  [TimeSeries(0.\\n           unit: dimensionless...  \n",
       "3  [TimeSeries(0.\\n           unit: dimensionless...  \n",
       "4  [TimeSeries(0.\\n           unit: dimensionless...  "
      ]
     },
     "execution_count": 35,
     "metadata": {},
     "output_type": "execute_result"
    }
   ],
   "source": [
    "df_raw.head()"
   ]
  },
  {
   "cell_type": "markdown",
   "id": "b79569f0-05fd-47ad-a68f-79b18193c774",
   "metadata": {
    "jp-MarkdownHeadingCollapsed": true,
    "tags": []
   },
   "source": [
    "## Preprocess"
   ]
  },
  {
   "cell_type": "markdown",
   "id": "956288e5-2dc0-4ad1-98ac-52d0694d1b50",
   "metadata": {},
   "source": [
    "Apply resampling and cropping to data. We need our input to be of the same length and same sample rate.\n",
    "\n",
    "The default parameter for prerprocessing should be:\n",
    "- time series length 6s \n",
    "- sample rate 1024 Hz.\n",
    "- band filtering [8,500] Hz\n",
    "- no whitening "
   ]
  },
  {
   "cell_type": "code",
   "execution_count": null,
   "id": "bf164805-ca2d-4a70-ac69-5237d3820d37",
   "metadata": {},
   "outputs": [],
   "source": [
    "s=time.time()\n",
    "df_rec.iloc[:,1:]=apply_parallel_inplace_generic(\n",
    "        preprocess_timeseries,\n",
    "        df_rec.iloc[:,1:],\n",
    "        whiten=False,\n",
    "        band_filter=[8,500],\n",
    "        duration=6,\n",
    "    )\n",
    "e=time.time()\n",
    "print(f'Time elapsed: {e-s} s')"
   ]
  },
  {
   "cell_type": "code",
   "execution_count": null,
   "id": "d44c2353-816f-434d-91d1-ff07f2964293",
   "metadata": {},
   "outputs": [],
   "source": [
    "s=time.time()\n",
    "df_raw.iloc[:,1:]=apply_parallel_inplace_generic(\n",
    "        preprocess_timeseries,\n",
    "        df_rec.iloc[:,1:],\n",
    "        whiten=False,\n",
    "        band_filter=[80,500],\n",
    "        duration=False,\n",
    "    )\n",
    "e=time.time()\n",
    "print(f'Time elapsed: {e-s} s')"
   ]
  },
  {
   "cell_type": "markdown",
   "id": "3fb527d3-6a98-4606-aef3-74df880ebf4f",
   "metadata": {},
   "source": [
    "Convert df entries to torch-tensors (this step won't be needed when datais loaded as torch tensor)"
   ]
  },
  {
   "cell_type": "code",
   "execution_count": 25,
   "id": "0149bf20-7072-47f8-b85a-7f2fa8f5bd48",
   "metadata": {},
   "outputs": [],
   "source": [
    "#update this using parallel inplace\n",
    "df_rec_torch=process_data_one_by_one(df_rec_prova,torch.tensor)\n",
    "df_rec_torch=process_data_one_by_one(df_rec_prova,torch.tensor)"
   ]
  },
  {
   "cell_type": "code",
   "execution_count": null,
   "id": "cf6e383d-375a-4baa-a08f-475ea6824488",
   "metadata": {},
   "outputs": [],
   "source": [
    "#Save memory\n",
    "del df_rec\n",
    "del df_torch"
   ]
  },
  {
   "cell_type": "markdown",
   "id": "cdb8a29d-4258-4c09-8a6c-6348b5680f4f",
   "metadata": {},
   "source": [
    "Merge dataframes based on Event id. This step needs to be upgraded to torch tensors"
   ]
  },
  {
   "cell_type": "code",
   "execution_count": null,
   "id": "eafc6517-65ee-46f9-a380-795a38f2c8dd",
   "metadata": {},
   "outputs": [],
   "source": [
    "df = pd.merge(df_raw_torch, df_rec_torch, on='Event ID')"
   ]
  },
  {
   "cell_type": "markdown",
   "id": "3061f4ff-1260-4744-aa7d-8f12784d11c3",
   "metadata": {},
   "source": [
    "Convert pandas to torch tensor"
   ]
  },
  {
   "cell_type": "code",
   "execution_count": null,
   "id": "e0976109-0fa8-455a-8d58-2961cba79b2a",
   "metadata": {},
   "outputs": [],
   "source": [
    "data=convert_to_torch(df.iloc[:,1:])"
   ]
  },
  {
   "cell_type": "markdown",
   "id": "63de67dd-49b2-4b95-8e5f-2de023981adc",
   "metadata": {},
   "source": [
    "Save dataset. In script allow user to save preprocessed dataset as .pt"
   ]
  },
  {
   "cell_type": "code",
   "execution_count": null,
   "id": "7b89c6a7-ccbd-4540-bc0c-36f84dbd9531",
   "metadata": {},
   "outputs": [],
   "source": [
    "out_dir='abc'\n",
    "save_name='123'\n",
    "torch.save(data, f'{out_dir}/{save_name}.pt') "
   ]
  },
  {
   "cell_type": "markdown",
   "id": "58fe6aec-e344-49e7-8dbc-0657057d3ffd",
   "metadata": {
    "tags": []
   },
   "source": [
    "## ANNALISA SCAN"
   ]
  },
  {
   "cell_type": "markdown",
   "id": "31c3c7e2-58fc-4789-9403-70a083151201",
   "metadata": {},
   "source": [
    "The script should allow for the possibility of bypassing the data loading from .h5 and/or preprocessing directly loading a torch tensor (or a pandas that then needs to be converted to torch tensor)"
   ]
  },
  {
   "cell_type": "code",
   "execution_count": 7,
   "id": "7b0b5f39-7898-4062-ab8c-d44b0516de56",
   "metadata": {},
   "outputs": [],
   "source": [
    "# to directly load torch tensor\n",
    "file_path='/data/notebooks_intertwin/Merged_Dataset_Hraw&Hrec.pt'\n",
    "#file_path='/data/notebooks_intertwin/Merged_Dataset_Hraw&Hrec_Whitened&Sampled.pt'\n",
    "data = torch.load(file_path)\n",
    "# for pandas\n",
    "#df=pd.read_pickle(file_path)\n",
    "#then apply conversion as shown above"
   ]
  },
  {
   "cell_type": "code",
   "execution_count": 8,
   "id": "2936243d-ead1-423f-a634-645213c8fdd5",
   "metadata": {},
   "outputs": [
    {
     "data": {
      "text/plain": [
       "torch.Size([8740, 26, 24576])"
      ]
     },
     "execution_count": 8,
     "metadata": {},
     "output_type": "execute_result"
    }
   ],
   "source": [
    "data.shape"
   ]
  },
  {
   "cell_type": "markdown",
   "id": "128f032e-af04-4932-a5e2-79556d948398",
   "metadata": {},
   "source": [
    "Move data to Dataloader before feeding to ANNALISA."
   ]
  },
  {
   "cell_type": "code",
   "execution_count": 20,
   "id": "04b43826-c4dd-4287-a694-7c6e2b0ecf95",
   "metadata": {},
   "outputs": [],
   "source": [
    "event_batch_size = 20\n",
    "channel_batch_size = 26\n",
    "strain_dataloader = DataLoader(\n",
    "    data[:,0,:],\n",
    "    batch_size=event_batch_size,\n",
    ")\n",
    "aux_dataloader = NestedMultiDimBatchDataLoader(data[:,:,:], event_batch_size, channel_batch_size)"
   ]
  },
  {
   "cell_type": "code",
   "execution_count": 10,
   "id": "3f9a32c7-d47a-4f61-9423-f674beb36eed",
   "metadata": {},
   "outputs": [],
   "source": [
    "class Annalisa(nn.Module):\n",
    "    def __init__(self, ts_length, sample_rate, device='cpu', threshold=20, time_window=None, time_only_mode=False,\n",
    "                 tolerance_distance=0, q=12, frange=[10, 50], fres=0.5, tres=0.1, num_t_bins=None, num_f_bins=None,\n",
    "                 logf=False, qtile_mode=False,whiten=False):\n",
    "        super(Annalisa, self).__init__()\n",
    "        # Set device\n",
    "        self.device = device\n",
    "\n",
    "        # Scanner parameters\n",
    "        self.threshold = threshold\n",
    "        self.time_window = time_window\n",
    "        self.time_only_mode = time_only_mode\n",
    "        self.tolerance_distance = tolerance_distance\n",
    "        \n",
    "        # whitening parameters\n",
    "        self.whiten=whiten\n",
    "        print(f'{self.whiten=}')\n",
    "        if whiten:\n",
    "            self.fftlength = 2\n",
    "            self.sample_rate=sample_rate\n",
    "\n",
    "            self.spectral_density = SpectralDensity(\n",
    "                sample_rate=self.sample_rate,\n",
    "                fftlength=self.fftlength,\n",
    "                overlap=None,\n",
    "                average=\"median\",\n",
    "            ).to(self.device)\n",
    "            \n",
    "            self.fduration=2\n",
    "            self.whitening = Whiten(\n",
    "                fduration=self.fduration,\n",
    "                sample_rate=self.sample_rate,\n",
    "                highpass=None\n",
    "            ).to(device)\n",
    "\n",
    "            \n",
    "\n",
    "        # QT parameters\n",
    "        self.length = ts_length\n",
    "        self.sample_rate = sample_rate\n",
    "        if whiten:\n",
    "            self.duration= ts_length / sample_rate - self.fduration\n",
    "        else:\n",
    "            self.duration = ts_length / sample_rate\n",
    "        print(f'{self.duration=}')\n",
    "        self.q = q\n",
    "        self.frange = frange\n",
    "        self.tres = tres\n",
    "        self.fres = fres\n",
    "        self.num_t_bins = num_t_bins or int(self.duration / tres)\n",
    "        self.num_f_bins = num_f_bins or int((frange[1] - frange[0]) / fres)\n",
    "        self.logf = logf\n",
    "        self.qtile_mode = qtile_mode\n",
    "\n",
    "        # Initialize Q-transform\n",
    "        self.qtransform = SingleQTransform(\n",
    "            sample_rate=self.sample_rate,\n",
    "            duration=self.duration,\n",
    "            q=self.q,\n",
    "            frange=self.frange,\n",
    "            spectrogram_shape=(self.num_t_bins, self.num_f_bins),\n",
    "            logf=self.logf,\n",
    "            qtiles_mode=self.qtile_mode\n",
    "        ).to(self.device)\n",
    "        \n",
    "        \n",
    "        #derivatives peak detection\n",
    "\n",
    "    def forward(self, strain_batch, aux_batch):\n",
    "        # Compute Q-transform of input data\n",
    "        if self.whiten:\n",
    "            #print(f'Before Whiten: {strain_batch.shape=}')\n",
    "            strain_psd=self.spectral_density(strain_batch.double().to(device))\n",
    "            #print(f'{strain_psd.shape=}')\n",
    "            strain_batch = self.whitening(strain_batch.double().to(device), strain_psd)\n",
    "            #print(f'After Whiten: {strain_batch.shape=}')\n",
    "            \n",
    "        qt_strain = self.qtransform(strain_batch.to(self.device))\n",
    "        #print(f'{qt_strain.shape=}')\n",
    "        peaks_strain = self.peaks_from_qt_torch(qt_strain, threshold=self.threshold)\n",
    "\n",
    "        # Correlation coefficients for auxiliary batches\n",
    "        corr_coeffs = []\n",
    "        iou_coeffs = []\n",
    "        for child_aux_batch in aux_batch.child_batches():\n",
    "            \n",
    "            if self.whiten:\n",
    "                aux_psd=self.spectral_density(child_aux_batch.double().to(device))\n",
    "                child_aux_batch = self.whitening(child_aux_batch.double().to(device), aux_psd)\n",
    "                #print(f'{aux_psd.shape=}')\n",
    "                \n",
    "            qt_aux = self.qtransform(child_aux_batch.to(self.device))\n",
    "            peaks_aux = self.peaks_from_qt_torch(qt_aux, threshold=self.threshold)\n",
    "            iou_coeff,corr_coeff = self.compute_ratio(peaks_strain, peaks_aux)\n",
    "            corr_coeffs.append(corr_coeff)\n",
    "            iou_coeffs.append(iou_coeff)\n",
    "\n",
    "        return torch.cat(iou_coeffs, dim=-1).detach().cpu(),torch.cat(corr_coeffs, dim=-1).detach().cpu()\n",
    "\n",
    "    def peaks_from_qt_torch(self, batch, threshold=25):\n",
    "        clamped_data = torch.clamp(batch, min=0)\n",
    "        peaks, _ = find_peaks_torch(clamped_data.flatten(), height=threshold)\n",
    "        peaks_2d = self.torch_unravel_index(peaks, clamped_data.shape)\n",
    "\n",
    "        # Create a mask for the detected peaks\n",
    "        mask = torch.zeros(clamped_data.shape, dtype=torch.bool, device=clamped_data.device)\n",
    "        mask.index_put_(tuple(peaks_2d.t()), torch.ones(peaks_2d.size(0), dtype=torch.bool, device=clamped_data.device))\n",
    "        return mask\n",
    "\n",
    "    def torch_unravel_index(self, indices, shape):\n",
    "        unraveled_indices = []\n",
    "        for dim in reversed(shape):\n",
    "            unraveled_indices.append(indices % dim)\n",
    "            indices = indices // dim\n",
    "        return torch.stack(list(reversed(unraveled_indices)), dim=-1)\n",
    "\n",
    "    def compute_ratio(self, mask1, mask2):\n",
    "        if self.time_only_mode:\n",
    "            # Collapse masks along the frequency axis (y-axis)\n",
    "            mask1 = mask1.any(dim=-2)  # Collapse along frequency axis\n",
    "            mask2 = mask2.any(dim=-2)  # Collapse along frequency axis\n",
    "\n",
    "            # Update dimension for summing true elements\n",
    "            intersection = (mask1 & mask2).sum(dim=-1).float()  # Overlap count per batch (time axis only)\n",
    "            mask1_count = mask1.sum(dim=-1).float()  # Count in mask1 (time axis only)\n",
    "            mask2_count = mask2.sum(dim=-1).float()  # Count in mask2 (time axis only)\n",
    "        else:\n",
    "            # Compute overlap between masks (full 2D)\n",
    "            intersection = (mask1 & mask2).sum(dim=(-2, -1)).float()  # Overlap count per batch\n",
    "            mask1_count = mask1.sum(dim=(-2, -1)).float()  # Count in mask1\n",
    "            mask2_count = mask2.sum(dim=(-2, -1)).float()  # Count in mask2\n",
    "            \n",
    "        #print(f'{mask1_count=}')\n",
    "\n",
    "        # Calculate Jaccard index (intersection over union)\n",
    "        union = mask1_count + mask2_count - intersection\n",
    "        jaccard = intersection / union\n",
    "        ratio= intersection/mask1_count\n",
    "\n",
    "        # Handle edge case where intersection and union are zero\n",
    "        zero_union_mask = (intersection == 0) & (union == 0)\n",
    "        ratio[zero_union_mask] = 1.0\n",
    "        jaccard[zero_union_mask] = 1.0\n",
    "\n",
    "\n",
    "        return torch.nan_to_num(jaccard, nan=0.0),torch.nan_to_num(ratio, nan=0.0)  # Handle cases where union is zero\n"
   ]
  },
  {
   "cell_type": "code",
   "execution_count": 27,
   "id": "2f5fdbea-5097-427b-a3c3-34333111836b",
   "metadata": {},
   "outputs": [
    {
     "name": "stdout",
     "output_type": "stream",
     "text": [
      "self.whiten=True\n",
      "self.duration=4.0\n"
     ]
    }
   ],
   "source": [
    "annalisa_scan=Annalisa(24576,4096,device=device,time_only_mode=False,whiten=True).to(device)"
   ]
  },
  {
   "cell_type": "code",
   "execution_count": 28,
   "id": "c325f6c4-241d-4460-95fb-adeb1b5fe7fe",
   "metadata": {},
   "outputs": [],
   "source": [
    "torch.cuda.empty_cache()\n"
   ]
  },
  {
   "cell_type": "code",
   "execution_count": 29,
   "id": "bc0272b9-413a-40af-a54d-65e260b44f61",
   "metadata": {},
   "outputs": [
    {
     "name": "stdout",
     "output_type": "stream",
     "text": [
      "Time elapsed: 28.029877424240112s\n"
     ]
    },
    {
     "data": {
      "text/plain": [
       "torch.Size([8740, 26])"
      ]
     },
     "execution_count": 29,
     "metadata": {},
     "output_type": "execute_result"
    }
   ],
   "source": [
    "s=time.time()\n",
    "stacked_corr_coeffs = []\n",
    "stacked_iou_coeffs = []\n",
    "#iter=0\n",
    "for batch_s, batch_a in zip(strain_dataloader,aux_dataloader):\n",
    "    #print('###############################################################')\n",
    "    #print(f'{iter=}')\n",
    "    iou_coeff_batch,corr_coeff_batch=annalisa_scan(batch_s, batch_a)\n",
    "    stacked_iou_coeffs.append(iou_coeff_batch)  # Append corr_coeff to the list \n",
    "    stacked_corr_coeffs.append(corr_coeff_batch)  # Append corr_coeff to the list  \n",
    "    #iter+=1\n",
    "corr_coeff_dataset=torch.cat(stacked_corr_coeffs, dim=0)\n",
    "iou_coeff_dataset=torch.cat(stacked_iou_coeffs, dim=0)\n",
    "e=time.time()\n",
    "print(f'Time elapsed: {e-s}s')\n",
    "corr_coeff_dataset.shape"
   ]
  },
  {
   "cell_type": "code",
   "execution_count": 30,
   "id": "9702901d-6074-4ba2-9f55-10e4bd9e1cf8",
   "metadata": {},
   "outputs": [
    {
     "data": {
      "text/plain": [
       "tensor([1.0000, 0.0174, 0.4218, 0.4633, 0.3165, 0.1947, 0.3991, 0.3076, 0.3991,\n",
       "        0.1430, 0.0158, 0.0157, 0.0696, 0.0705, 0.0697, 0.0691, 0.3075, 0.4857,\n",
       "        0.4047, 0.3989, 0.4082, 0.0710, 0.0716, 0.0708, 0.0721, 0.0119])"
      ]
     },
     "execution_count": 30,
     "metadata": {},
     "output_type": "execute_result"
    }
   ],
   "source": [
    "torch.mean(corr_coeff_dataset,axis=0)"
   ]
  },
  {
   "cell_type": "code",
   "execution_count": 31,
   "id": "f91f0054-4e27-4878-8804-fd34180b6187",
   "metadata": {},
   "outputs": [
    {
     "data": {
      "text/plain": [
       "tensor([1.0000, 0.0029, 0.1532, 0.2210, 0.0891, 0.0424, 0.1606, 0.2376, 0.1606,\n",
       "        0.1136, 0.0084, 0.0078, 0.0696, 0.0705, 0.0697, 0.0687, 0.2379, 0.2550,\n",
       "        0.1525, 0.1602, 0.1873, 0.0710, 0.0716, 0.0708, 0.0721, 0.0083])"
      ]
     },
     "execution_count": 31,
     "metadata": {},
     "output_type": "execute_result"
    }
   ],
   "source": [
    "torch.mean(iou_coeff_dataset,axis=0)"
   ]
  },
  {
   "cell_type": "code",
   "execution_count": 32,
   "id": "2362b2d3-37d4-461c-8cf8-d5cc3bca87eb",
   "metadata": {},
   "outputs": [],
   "source": [
    "column_list=['V1:Hrec_hoft_raw_20000Hz', 'V1:LSC_DARM_NOISE', 'V1:LSC_PRCL',\n",
    "       'V1:LSC_DARM_CORR', 'V1:LSC_PRCL_CORR', 'V1:LSC_MICH',\n",
    "       'V1:LSC_PRCL_ERR_x', 'V1:LSC_DARM', 'V1:LSC_MICH_CORR',\n",
    "       'V1:Hrec_hoft_16384Hz', 'V1:ENV_METEO_WIND_DIR',\n",
    "       'V1:ENV_METEO_WIND_SPD', 'V1:ENV_NEB_SEIS_N', 'V1:ENV_NEB_SEIS_V',\n",
    "       'V1:ENV_NEB_SEIS_W', 'V1:INJ_IMC_TRA_DC', 'V1:LSC_DARM_ERR',\n",
    "       'V1:LSC_MICH_ERR', 'V1:LSC_NE_CORR', 'V1:LSC_PRCL_ERR_y',\n",
    "       'V1:LSC_PR_CORR', 'V1:Sa_NE_F0_LVDT_V_500Hz', 'V1:Sa_NE_F0_TY_500Hz',\n",
    "       'V1:Sa_NE_F0_X_500Hz', 'V1:Sa_NE_F0_Z_500Hz', 'V1:Sc_MC_MIR_Z_CORR']"
   ]
  },
  {
   "cell_type": "code",
   "execution_count": 33,
   "id": "2ff5ae3e-75c6-4dd3-ae46-9f498a7146a1",
   "metadata": {},
   "outputs": [
    {
     "data": {
      "image/png": "[encoded data removed]",
      "text/plain": [
       "<Figure size 1000x600 with 1 Axes>"
      ]
     },
     "metadata": {},
     "output_type": "display_data"
    }
   ],
   "source": [
    "plot_histogram(column_list, torch.mean(corr_coeff_dataset,axis=0), title='Correlation histogram vs Hrec')"
   ]
  },
  {
   "cell_type": "code",
   "execution_count": 34,
   "id": "2902f10b-ee17-4ef3-a26f-a9ce481584ce",
   "metadata": {},
   "outputs": [
    {
     "data": {
      "image/png": "[encoded data removed]",
      "text/plain": [
       "<Figure size 1000x600 with 1 Axes>"
      ]
     },
     "metadata": {},
     "output_type": "display_data"
    }
   ],
   "source": [
    "plot_histogram(column_list, torch.mean(iou_coeff_dataset,axis=0), title='IOU histogram vs Hrec')"
   ]
  },
  {
   "cell_type": "code",
   "execution_count": 40,
   "id": "ee56a366-f6a1-4889-ae99-9a74ec1be45d",
   "metadata": {},
   "outputs": [
    {
     "name": "stdout",
     "output_type": "stream",
     "text": [
      "tensor([[ 0],\n",
      "        [ 2],\n",
      "        [ 3],\n",
      "        [ 4],\n",
      "        [ 6],\n",
      "        [ 7],\n",
      "        [ 8],\n",
      "        [16],\n",
      "        [17],\n",
      "        [18],\n",
      "        [19],\n",
      "        [20]])\n",
      "['V1:Hrec_hoft_raw_20000Hz', 'V1:LSC_PRCL', 'V1:LSC_DARM_CORR', 'V1:LSC_PRCL_CORR', 'V1:LSC_PRCL_ERR_x', 'V1:LSC_DARM', 'V1:LSC_MICH_CORR', 'V1:LSC_DARM_ERR', 'V1:LSC_MICH_ERR', 'V1:LSC_NE_CORR', 'V1:LSC_PRCL_ERR_y', 'V1:LSC_PR_CORR']\n"
     ]
    }
   ],
   "source": [
    "#indices_to_select = [0, 2, 4,5, 6,8, 17, 19, 20]\n",
    "threshold_corr=0.17\n",
    "threshold_iou=0.08\n",
    "mask=(torch.mean(corr_coeff_dataset,axis=0)>threshold_corr) & (torch.mean(iou_coeff_dataset,axis=0)>threshold_iou)\n",
    "indices_to_select = torch.nonzero(mask)\n",
    "print(indices_to_select)\n",
    "\n",
    "selected_elements = [column_list[i] for i in indices_to_select]\n",
    "\n",
    "print(selected_elements)"
   ]
  },
  {
   "cell_type": "markdown",
   "id": "37aca80f-3e30-436f-a5c0-76fa576a80a0",
   "metadata": {},
   "source": [
    "Filter the dataset given the results of the annalisa scan "
   ]
  },
  {
   "cell_type": "code",
   "execution_count": null,
   "id": "18a5e57e-d021-4618-b6a1-78743bad9904",
   "metadata": {},
   "outputs": [],
   "source": [
    "#Save channel index list\n",
    "in_dir='/home/jovyan/Timeseries Dataset'\n",
    "save_name='ch'\n",
    "torch.save(indices_to_select,f'{in_dir}/{save_name}.pt')"
   ]
  }
 ],
 "metadata": {
  "kernelspec": {
   "display_name": "pytorch-intertwin",
   "language": "python",
   "name": "pytorch-intertwin"
  },
  "language_info": {
   "codemirror_mode": {
    "name": "ipython",
    "version": 3
   },
   "file_extension": ".py",
   "mimetype": "text/x-python",
   "name": "python",
   "nbconvert_exporter": "python",
   "pygments_lexer": "ipython3",
   "version": "3.10.10"
  }
 },
 "nbformat": 4,
 "nbformat_minor": 5
}
